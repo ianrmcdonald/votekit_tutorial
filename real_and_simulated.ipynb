{
 "cells": [
  {
   "cell_type": "code",
   "execution_count": 1,
   "id": "bc256e79",
   "metadata": {},
   "outputs": [],
   "source": [
    "from votekit.cvr_loaders import load_csv\n",
    "from votekit.elections import IRV\n",
    "from votekit.cleaning import remove_and_condense"
   ]
  },
  {
   "cell_type": "code",
   "execution_count": 2,
   "id": "5b4828f4",
   "metadata": {},
   "outputs": [
    {
     "name": "stdout",
     "output_type": "stream",
     "text": [
      "Profile contains rankings: True\n",
      "Maximum ranking length: 3\n",
      "Profile contains scores: False\n",
      "Candidates: ('ABDUL M RAHAMAN \"THE ROCK\"', 'DAN COHEN', 'JAMES EVERETT', 'MARK V ANDERSON', 'TROY BENJEGERDES', 'undervote', 'ALICIA K. BENNETT', 'BETSY HODGES', 'MARK ANDREW', 'MIKE GOULD', 'BILL KAHN', 'BOB FINE', 'CAM WINTON', 'DON SAMUELS', 'JACKIE CHERRYHOMES', 'JEFFREY ALAN WAGNER', 'JOHN LESLIE HARTWIG', 'KURTIS W. HANNA', 'JOSHUA REA', 'MERRILL ANDERSON', 'NEAL BAXTER', 'STEPHANIE WOODRUFF', 'UWI', 'BOB \"AGAIN\" CARNEY JR', 'TONY LANE', 'CAPTAIN JACK SPARROW', 'GREGG A. IVERSON', 'JAMES \"JIMMY\" L. STROUD, JR.', 'JAYMIE KELLY', 'CYD GORMAN', 'EDMUND BERNARD BRUYERE', 'DOUG MANN', 'CHRISTOPHER ROBIN ZIMMERMAN', 'RAHN V. WORKCUFF', 'JOHN CHARLES WILSON', 'OLE SAVIOR', 'overvote', 'CHRISTOPHER CLARK')\n",
      "Candidates who received votes: ('ABDUL M RAHAMAN \"THE ROCK\"', 'DAN COHEN', 'JAMES EVERETT', 'MARK V ANDERSON', 'TROY BENJEGERDES', 'undervote', 'ALICIA K. BENNETT', 'BETSY HODGES', 'MARK ANDREW', 'MIKE GOULD', 'BILL KAHN', 'BOB FINE', 'CAM WINTON', 'DON SAMUELS', 'JACKIE CHERRYHOMES', 'JEFFREY ALAN WAGNER', 'JOHN LESLIE HARTWIG', 'KURTIS W. HANNA', 'JOSHUA REA', 'MERRILL ANDERSON', 'NEAL BAXTER', 'STEPHANIE WOODRUFF', 'UWI', 'BOB \"AGAIN\" CARNEY JR', 'TONY LANE', 'CAPTAIN JACK SPARROW', 'GREGG A. IVERSON', 'JAMES \"JIMMY\" L. STROUD, JR.', 'JAYMIE KELLY', 'CYD GORMAN', 'EDMUND BERNARD BRUYERE', 'DOUG MANN', 'CHRISTOPHER ROBIN ZIMMERMAN', 'RAHN V. WORKCUFF', 'JOHN CHARLES WILSON', 'OLE SAVIOR', 'overvote', 'CHRISTOPHER CLARK')\n",
      "Total number of Ballot objects: 7084\n",
      "Total weight of Ballot objects: 80101.0\n",
      "\n"
     ]
    }
   ],
   "source": [
    "minneapolis_profile = load_csv(\"mn_2013_cast_vote_record.csv\")\n",
    "print(minneapolis_profile)"
   ]
  },
  {
   "cell_type": "code",
   "execution_count": 3,
   "id": "20ad26d9",
   "metadata": {},
   "outputs": [
    {
     "name": "stdout",
     "output_type": "stream",
     "text": [
      "The list of candidates is\n",
      "\tABDUL M RAHAMAN \"THE ROCK\"\n",
      "\tALICIA K. BENNETT\n",
      "\tBETSY HODGES\n",
      "\tBILL KAHN\n",
      "\tBOB \"AGAIN\" CARNEY JR\n",
      "\tBOB FINE\n",
      "\tCAM WINTON\n",
      "\tCAPTAIN JACK SPARROW\n",
      "\tCHRISTOPHER CLARK\n",
      "\tCHRISTOPHER ROBIN ZIMMERMAN\n",
      "\tCYD GORMAN\n",
      "\tDAN COHEN\n",
      "\tDON SAMUELS\n",
      "\tDOUG MANN\n",
      "\tEDMUND BERNARD BRUYERE\n",
      "\tGREGG A. IVERSON\n",
      "\tJACKIE CHERRYHOMES\n",
      "\tJAMES \"JIMMY\" L. STROUD, JR.\n",
      "\tJAMES EVERETT\n",
      "\tJAYMIE KELLY\n",
      "\tJEFFREY ALAN WAGNER\n",
      "\tJOHN CHARLES WILSON\n",
      "\tJOHN LESLIE HARTWIG\n",
      "\tJOSHUA REA\n",
      "\tKURTIS W. HANNA\n",
      "\tMARK ANDREW\n",
      "\tMARK V ANDERSON\n",
      "\tMERRILL ANDERSON\n",
      "\tMIKE GOULD\n",
      "\tNEAL BAXTER\n",
      "\tOLE SAVIOR\n",
      "\tRAHN V. WORKCUFF\n",
      "\tSTEPHANIE WOODRUFF\n",
      "\tTONY LANE\n",
      "\tTROY BENJEGERDES\n",
      "\tUWI\n",
      "\tovervote\n",
      "\tundervote\n",
      "There are 38 candidates.\n"
     ]
    }
   ],
   "source": [
    "print(\"The list of candidates is\")\n",
    "\n",
    "for candidate in sorted(minneapolis_profile.candidates):\n",
    "    print(f\"\\t{candidate}\")\n",
    "\n",
    "print(f\"There are {len(minneapolis_profile.candidates)} candidates.\")"
   ]
  },
  {
   "cell_type": "code",
   "execution_count": 4,
   "id": "200b8419",
   "metadata": {},
   "outputs": [
    {
     "name": "stdout",
     "output_type": "stream",
     "text": [
      "There were 38 candidates\n",
      "\n",
      "('RAHN V. WORKCUFF', 'JAMES EVERETT', 'JEFFREY ALAN WAGNER', 'CAPTAIN JACK SPARROW', 'JACKIE CHERRYHOMES', 'CYD GORMAN', 'OLE SAVIOR', 'MIKE GOULD', 'MERRILL ANDERSON', 'CHRISTOPHER ROBIN ZIMMERMAN', 'CAM WINTON', 'TROY BENJEGERDES', 'JAMES \"JIMMY\" L. STROUD, JR.', 'STEPHANIE WOODRUFF', 'BOB FINE', 'BILL KAHN', 'DOUG MANN', 'DAN COHEN', 'JOHN LESLIE HARTWIG', 'KURTIS W. HANNA', 'JAYMIE KELLY', 'MARK ANDREW', 'BOB \"AGAIN\" CARNEY JR', 'CHRISTOPHER CLARK', 'DON SAMUELS', 'ALICIA K. BENNETT', 'TONY LANE', 'JOHN CHARLES WILSON', 'MARK V ANDERSON', 'ABDUL M RAHAMAN \"THE ROCK\"', 'BETSY HODGES', 'JOSHUA REA', 'NEAL BAXTER', 'GREGG A. IVERSON', 'EDMUND BERNARD BRUYERE')\n",
      "\n",
      "There are now 35 candidates\n",
      "Profile has been cleaned\n",
      "Profile contains rankings: True\n",
      "Maximum ranking length: 3\n",
      "Profile contains scores: False\n",
      "Candidates: ('RAHN V. WORKCUFF', 'JAMES EVERETT', 'JEFFREY ALAN WAGNER', 'CAPTAIN JACK SPARROW', 'JACKIE CHERRYHOMES', 'CYD GORMAN', 'OLE SAVIOR', 'MIKE GOULD', 'MERRILL ANDERSON', 'CHRISTOPHER ROBIN ZIMMERMAN', 'CAM WINTON', 'TROY BENJEGERDES', 'JAMES \"JIMMY\" L. STROUD, JR.', 'STEPHANIE WOODRUFF', 'BOB FINE', 'BILL KAHN', 'DOUG MANN', 'DAN COHEN', 'JOHN LESLIE HARTWIG', 'KURTIS W. HANNA', 'JAYMIE KELLY', 'MARK ANDREW', 'BOB \"AGAIN\" CARNEY JR', 'CHRISTOPHER CLARK', 'DON SAMUELS', 'ALICIA K. BENNETT', 'TONY LANE', 'JOHN CHARLES WILSON', 'MARK V ANDERSON', 'ABDUL M RAHAMAN \"THE ROCK\"', 'BETSY HODGES', 'JOSHUA REA', 'NEAL BAXTER', 'GREGG A. IVERSON', 'EDMUND BERNARD BRUYERE')\n",
      "Candidates who received votes: ('ABDUL M RAHAMAN \"THE ROCK\"', 'DAN COHEN', 'JAMES EVERETT', 'MARK V ANDERSON', 'TROY BENJEGERDES', 'ALICIA K. BENNETT', 'BETSY HODGES', 'MARK ANDREW', 'MIKE GOULD', 'BILL KAHN', 'BOB FINE', 'CAM WINTON', 'DON SAMUELS', 'JACKIE CHERRYHOMES', 'JEFFREY ALAN WAGNER', 'JOHN LESLIE HARTWIG', 'KURTIS W. HANNA', 'JOSHUA REA', 'MERRILL ANDERSON', 'NEAL BAXTER', 'STEPHANIE WOODRUFF', 'BOB \"AGAIN\" CARNEY JR', 'TONY LANE', 'CAPTAIN JACK SPARROW', 'GREGG A. IVERSON', 'JAMES \"JIMMY\" L. STROUD, JR.', 'JAYMIE KELLY', 'CYD GORMAN', 'EDMUND BERNARD BRUYERE', 'DOUG MANN', 'CHRISTOPHER ROBIN ZIMMERMAN', 'RAHN V. WORKCUFF', 'JOHN CHARLES WILSON', 'OLE SAVIOR', 'CHRISTOPHER CLARK')\n",
      "Total number of Ballot objects: 7073\n",
      "Total weight of Ballot objects: 79378.0\n",
      "\n"
     ]
    }
   ],
   "source": [
    "print(\"There were\", len(minneapolis_profile.candidates), \"candidates\\n\")\n",
    "\n",
    "clean_profile = remove_and_condense([\"undervote\", \"overvote\", \"UWI\"], minneapolis_profile)\n",
    "print(clean_profile.candidates)\n",
    "\n",
    "print(\"\\nThere are now\", len(clean_profile.candidates), \"candidates\")\n",
    "\n",
    "print(clean_profile)"
   ]
  },
  {
   "cell_type": "code",
   "execution_count": 5,
   "id": "e3dfe52d",
   "metadata": {},
   "outputs": [
    {
     "name": "stdout",
     "output_type": "stream",
     "text": [
      "                                  Status  Round\n",
      "BETSY HODGES                     Elected     35\n",
      "MARK ANDREW                   Eliminated     34\n",
      "DON SAMUELS                   Eliminated     33\n",
      "CAM WINTON                    Eliminated     32\n",
      "JACKIE CHERRYHOMES            Eliminated     31\n",
      "BOB FINE                      Eliminated     30\n",
      "DAN COHEN                     Eliminated     29\n",
      "STEPHANIE WOODRUFF            Eliminated     28\n",
      "MARK V ANDERSON               Eliminated     27\n",
      "DOUG MANN                     Eliminated     26\n",
      "OLE SAVIOR                    Eliminated     25\n",
      "JAMES EVERETT                 Eliminated     24\n",
      "ALICIA K. BENNETT             Eliminated     23\n",
      "ABDUL M RAHAMAN \"THE ROCK\"    Eliminated     22\n",
      "CAPTAIN JACK SPARROW          Eliminated     21\n",
      "CHRISTOPHER CLARK             Eliminated     20\n",
      "TONY LANE                     Eliminated     19\n",
      "JAYMIE KELLY                  Eliminated     18\n",
      "MIKE GOULD                    Eliminated     17\n",
      "KURTIS W. HANNA               Eliminated     16\n",
      "CHRISTOPHER ROBIN ZIMMERMAN   Eliminated     15\n",
      "JEFFREY ALAN WAGNER           Eliminated     14\n",
      "NEAL BAXTER                   Eliminated     13\n",
      "TROY BENJEGERDES              Eliminated     12\n",
      "GREGG A. IVERSON              Eliminated     11\n",
      "MERRILL ANDERSON              Eliminated     10\n",
      "JOSHUA REA                    Eliminated      9\n",
      "BILL KAHN                     Eliminated      8\n",
      "JOHN LESLIE HARTWIG           Eliminated      7\n",
      "EDMUND BERNARD BRUYERE        Eliminated      6\n",
      "JAMES \"JIMMY\" L. STROUD, JR.  Eliminated      5\n",
      "RAHN V. WORKCUFF              Eliminated      4\n",
      "BOB \"AGAIN\" CARNEY JR         Eliminated      3\n",
      "CYD GORMAN                    Eliminated      2\n",
      "JOHN CHARLES WILSON           Eliminated      1\n"
     ]
    }
   ],
   "source": [
    "# an IRV election for one seat\n",
    "minn_election = IRV(profile=clean_profile)\n",
    "print(minn_election)"
   ]
  },
  {
   "cell_type": "code",
   "execution_count": 6,
   "id": "dd11078b",
   "metadata": {},
   "outputs": [
    {
     "name": "stdout",
     "output_type": "stream",
     "text": [
      "             Ranking_1 Ranking_2 Ranking_3 Ranking_4 Voter Set  Weight\n",
      "Ballot Index                                                          \n",
      "0                  (A)       (B)       (Y)       (X)        {}    63.0\n",
      "1                  (A)       (Y)       (B)       (X)        {}     3.0\n",
      "2                  (B)       (A)       (Y)       (X)        {}    14.0\n",
      "3                  (Y)       (X)       (B)       (A)        {}     4.0\n",
      "4                  (Y)       (X)       (A)       (B)        {}     3.0\n",
      "5                  (Y)       (B)       (X)       (A)        {}     1.0\n",
      "6                  (X)       (Y)       (B)       (A)        {}     4.0\n",
      "7                  (X)       (Y)       (A)       (B)        {}     6.0\n",
      "8                  (X)       (B)       (Y)       (A)        {}     2.0\n"
     ]
    }
   ],
   "source": [
    "import votekit.ballot_generator as bg\n",
    "from votekit import PreferenceInterval\n",
    "\n",
    "slate_to_candidates = {\"Alpha\": [\"A\", \"B\"], \"Xenon\": [\"X\", \"Y\"]}\n",
    "\n",
    "# note that we include candidates with 0 support, and that our preference intervals\n",
    "# will automatically rescale to sum to 1\n",
    "\n",
    "pref_intervals_by_bloc = {\n",
    "    \"Alpha\": {\n",
    "        \"Alpha\": PreferenceInterval({\"A\": 0.8, \"B\": 0.15}),\n",
    "        \"Xenon\": PreferenceInterval({\"X\": 0, \"Y\": 0.05}),\n",
    "    },\n",
    "    \"Xenon\": {\n",
    "        \"Alpha\": PreferenceInterval({\"A\": 0.05, \"B\": 0.05}),\n",
    "        \"Xenon\": PreferenceInterval({\"X\": 0.45, \"Y\": 0.45}),\n",
    "    },\n",
    "}\n",
    "\n",
    "\n",
    "bloc_voter_prop = {\"Alpha\": 0.8, \"Xenon\": 0.2}\n",
    "\n",
    "# assume that each bloc is 90% cohesive\n",
    "cohesion_parameters = {\n",
    "    \"Alpha\": {\"Alpha\": 0.9, \"Xenon\": 0.1},\n",
    "    \"Xenon\": {\"Xenon\": 0.9, \"Alpha\": 0.1},\n",
    "}\n",
    "\n",
    "bt = bg.slate_BradleyTerry(\n",
    "    pref_intervals_by_bloc=pref_intervals_by_bloc,\n",
    "    bloc_voter_prop=bloc_voter_prop,\n",
    "    slate_to_candidates=slate_to_candidates,\n",
    "    cohesion_parameters=cohesion_parameters,\n",
    ")\n",
    "\n",
    "profile = bt.generate_profile(number_of_ballots=100)\n",
    "print(profile.df)"
   ]
  },
  {
   "cell_type": "code",
   "execution_count": 12,
   "id": "19a6607a",
   "metadata": {},
   "outputs": [
    {
     "name": "stdout",
     "output_type": "stream",
     "text": [
      "Strong preference for one candidate {'A': np.float64(0.0001), 'B': np.float64(0.0001), 'C': np.float64(0.9998)} \n",
      "\n",
      "All bets are off preference {'A': np.float64(0.4025), 'B': np.float64(0.1319), 'C': np.float64(0.4656)} \n",
      "\n",
      "Uniform preference for all candidates {'A': np.float64(0.3334), 'B': np.float64(0.3458), 'C': np.float64(0.3207)} \n",
      "\n"
     ]
    }
   ],
   "source": [
    "strong_pref_interval = PreferenceInterval.from_dirichlet(\n",
    "    candidates=[\"A\", \"B\", \"C\"], alpha=0.1\n",
    ")\n",
    "print(\"Strong preference for one candidate\", strong_pref_interval,\"\\n\")\n",
    "\n",
    "abo_pref_interval = PreferenceInterval.from_dirichlet(\n",
    "    candidates=[\"A\", \"B\", \"C\"], alpha=1\n",
    ")\n",
    "print(\"All bets are off preference\", abo_pref_interval,\"\\n\")\n",
    "\n",
    "unif_pref_interval = PreferenceInterval.from_dirichlet(\n",
    "    candidates=[\"A\", \"B\", \"C\"], alpha=100\n",
    ")\n",
    "print(\"Uniform preference for all candidates\", unif_pref_interval,\"\\n\")"
   ]
  },
  {
   "cell_type": "code",
   "execution_count": 20,
   "id": "2fbbb7af",
   "metadata": {},
   "outputs": [
    {
     "name": "stdout",
     "output_type": "stream",
     "text": [
      "Preference interval for X bloc and X candidates\n",
      "{'X1': np.float64(0.842), 'X2': np.float64(0.158)}\n",
      "\n",
      "Preference interval for X bloc and Y candidates\n",
      "{'Y1': np.float64(0.326), 'Y2': np.float64(0.674)}\n",
      "\n",
      "             Ranking_1 Ranking_2 Ranking_3 Ranking_4  Weight Voter Set\n",
      "Ballot Index                                                          \n",
      "0                 (X2)      (X1)      (Y1)      (Y2)     2.0        {}\n",
      "1                 (X2)      (X1)      (Y2)      (Y1)     5.0        {}\n",
      "2                 (X2)      (Y2)      (X1)      (Y1)     3.0        {}\n",
      "3                 (X1)      (X2)      (Y1)      (Y2)    15.0        {}\n",
      "4                 (X1)      (X2)      (Y2)      (Y1)    36.0        {}\n",
      "5                 (X1)      (Y2)      (X2)      (Y1)     2.0        {}\n",
      "6                 (X1)      (Y1)      (X2)      (Y2)     1.0        {}\n",
      "7                 (Y2)      (X1)      (X2)      (Y1)     6.0        {}\n",
      "8                 (Y2)      (X2)      (Y1)      (X1)     1.0        {}\n",
      "9                 (Y2)      (X2)      (X1)      (Y1)     3.0        {}\n",
      "10                (Y1)      (X1)      (X2)      (Y2)     5.0        {}\n",
      "11                (Y1)      (X2)      (X1)      (Y2)     1.0        {}\n"
     ]
    }
   ],
   "source": [
    "bloc_voter_prop = {\"X\": 0.8, \"Y\": 0.2}\n",
    "\n",
    "# the values of .9 indicate that these blocs are highly polarized;\n",
    "# they prefer their own candidates much more than the opposing slate\n",
    "cohesion_parameters = {\"X\": {\"X\": 0.9, \"Y\": 0.1}, \"Y\": {\"Y\": 0.9, \"X\": 0.1}}\n",
    "\n",
    "alphas = {\"X\": {\"X\": 2, \"Y\": 1}, \"Y\": {\"X\": 1, \"Y\": 0.5}}\n",
    "\n",
    "slate_to_candidates = {\"X\": [\"X1\", \"X2\"], \"Y\": [\"Y1\", \"Y2\"]}\n",
    "\n",
    "# the from_params method allows us to sample from\n",
    "# the Dirichlet distribution for our intervals\n",
    "pl = bg.slate_PlackettLuce.from_params(\n",
    "    slate_to_candidates=slate_to_candidates,\n",
    "    bloc_voter_prop=bloc_voter_prop,\n",
    "    cohesion_parameters=cohesion_parameters,\n",
    "    alphas=alphas,\n",
    ")\n",
    "\n",
    "print(\"Preference interval for X bloc and X candidates\")\n",
    "print(pl.pref_intervals_by_bloc[\"X\"][\"X\"])  \n",
    "print()\n",
    "print(\"Preference interval for X bloc and Y candidates\")\n",
    "print(pl.pref_intervals_by_bloc[\"X\"][\"Y\"])\n",
    "\n",
    "print()\n",
    "profile_dict, agg_profile = pl.generate_profile(number_of_ballots=100, by_bloc=True)\n",
    "print(profile_dict[\"X\"].df)"
   ]
  },
  {
   "cell_type": "code",
   "execution_count": 33,
   "id": "fd89f77b",
   "metadata": {},
   "outputs": [
    {
     "name": "stdout",
     "output_type": "stream",
     "text": [
      "             Ranking_1 Ranking_2 Ranking_3 Ranking_4 Ranking_5 Voter Set  Weight\n",
      "Ballot Index                                                                    \n",
      "0                 (W3)      (C2)      (W2)       (~)       (~)        {}    11.0\n",
      "1                 (W3)      (C2)      (W2)      (W1)       (~)        {}     2.0\n",
      "2                 (W3)      (C2)      (W2)      (W1)      (C1)        {}    10.0\n",
      "3                 (W3)      (C2)      (W2)      (C1)       (~)        {}     3.0\n",
      "4                 (W3)      (C2)      (W2)      (C1)      (W1)        {}     4.0\n",
      "5                 (W3)      (C2)       (~)       (~)       (~)        {}     9.0\n",
      "6                 (W3)      (C2)      (W1)       (~)       (~)        {}     4.0\n",
      "7                 (W3)      (C2)      (W1)      (C1)       (~)        {}     1.0\n",
      "8                 (W3)      (C2)      (W1)      (C1)      (W2)        {}     1.0\n",
      "9                 (W3)      (C2)      (W1)      (W2)       (~)        {}     5.0\n"
     ]
    }
   ],
   "source": [
    "bloc_voter_prop = {\"W\": 0.8, \"C\": 0.2}\n",
    "\n",
    "# the values of .9 indicate that these blocs are highly polarized;\n",
    "# they prefer their own candidates much more than the opposing slate\n",
    "cohesion_parameters = {\"W\": {\"W\": 0.9, \"C\": 0.1}, \"C\": {\"C\": 0.9, \"W\": 0.1}}\n",
    "\n",
    "alphas = {\"W\": {\"W\": 2, \"C\": 1}, \"C\": {\"W\": 1, \"C\": 0.5}}\n",
    "\n",
    "slate_to_candidates = {\"W\": [\"W1\", \"W2\", \"W3\"], \"C\": [\"C1\", \"C2\"]}\n",
    "\n",
    "cs = bg.CambridgeSampler.from_params(\n",
    "    slate_to_candidates=slate_to_candidates,\n",
    "    bloc_voter_prop=bloc_voter_prop,\n",
    "    cohesion_parameters=cohesion_parameters,\n",
    "    alphas=alphas,\n",
    ")\n",
    "\n",
    "\n",
    "profile = cs.generate_profile(number_of_ballots=1000)\n",
    "print(profile.df.head(10).to_string())"
   ]
  }
 ],
 "metadata": {
  "kernelspec": {
   "display_name": ".venv",
   "language": "python",
   "name": "python3"
  },
  "language_info": {
   "codemirror_mode": {
    "name": "ipython",
    "version": 3
   },
   "file_extension": ".py",
   "mimetype": "text/x-python",
   "name": "python",
   "nbconvert_exporter": "python",
   "pygments_lexer": "ipython3",
   "version": "3.13.0"
  }
 },
 "nbformat": 4,
 "nbformat_minor": 5
}
