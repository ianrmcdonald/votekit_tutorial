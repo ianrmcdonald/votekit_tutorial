{
 "cells": [
  {
   "cell_type": "code",
   "execution_count": null,
   "id": "b6e672bf",
   "metadata": {},
   "outputs": [],
   "source": [
    "!pip install votekit\n",
    "print(3*3)"
   ]
  }
 ],
 "metadata": {
  "language_info": {
   "name": "python"
  }
 },
 "nbformat": 4,
 "nbformat_minor": 5
}
