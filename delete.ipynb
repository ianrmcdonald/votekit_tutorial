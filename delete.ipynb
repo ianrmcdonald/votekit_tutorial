{
 "cells": [
  {
   "cell_type": "code",
   "execution_count": 1,
   "id": "b6e672bf",
   "metadata": {},
   "outputs": [
    {
     "name": "stdout",
     "output_type": "stream",
     "text": [
      "Requirement already satisfied: votekit in ./.venv/lib/python3.13/site-packages (3.2.2)\n",
      "Requirement already satisfied: apportionment<2.0,>=1.0 in ./.venv/lib/python3.13/site-packages (from votekit) (1.0)\n",
      "Requirement already satisfied: jinja2<4.0,>=3.1.2 in ./.venv/lib/python3.13/site-packages (from votekit) (3.1.6)\n",
      "Requirement already satisfied: matplotlib<4.0,>=3.10.3 in ./.venv/lib/python3.13/site-packages (from votekit) (3.10.3)\n",
      "Requirement already satisfied: mypy==1.16 in ./.venv/lib/python3.13/site-packages (from votekit) (1.16.0)\n",
      "Requirement already satisfied: mypy-extensions>=1.1.0 in ./.venv/lib/python3.13/site-packages (from votekit) (1.1.0)\n",
      "Requirement already satisfied: networkx<4.0,>=3.5 in ./.venv/lib/python3.13/site-packages (from votekit) (3.5)\n",
      "Requirement already satisfied: numpy<3.0,>=2.2.6 in ./.venv/lib/python3.13/site-packages (from votekit) (2.3.1)\n",
      "Requirement already satisfied: pandas>2.2 in ./.venv/lib/python3.13/site-packages (from votekit) (2.3.1)\n",
      "Requirement already satisfied: pot==0.9.5 in ./.venv/lib/python3.13/site-packages (from votekit) (0.9.5)\n",
      "Requirement already satisfied: pydantic<3.0,>=2.11.5 in ./.venv/lib/python3.13/site-packages (from votekit) (2.11.7)\n",
      "Requirement already satisfied: scikit-learn<2.0,>=1.7.0 in ./.venv/lib/python3.13/site-packages (from votekit) (1.7.0)\n",
      "Requirement already satisfied: scipy<2.0,>=1.15.3 in ./.venv/lib/python3.13/site-packages (from votekit) (1.16.0)\n",
      "Requirement already satisfied: seaborn<0.14.0,>=0.13.2 in ./.venv/lib/python3.13/site-packages (from votekit) (0.13.2)\n",
      "Requirement already satisfied: types-seaborn<0.14.0.0,>=0.13.2.20250516 in ./.venv/lib/python3.13/site-packages (from votekit) (0.13.2.20250516)\n",
      "Requirement already satisfied: typing_extensions>=4.6.0 in ./.venv/lib/python3.13/site-packages (from mypy==1.16->votekit) (4.14.1)\n",
      "Requirement already satisfied: pathspec>=0.9.0 in ./.venv/lib/python3.13/site-packages (from mypy==1.16->votekit) (0.12.1)\n",
      "Requirement already satisfied: MarkupSafe>=2.0 in ./.venv/lib/python3.13/site-packages (from jinja2<4.0,>=3.1.2->votekit) (3.0.2)\n",
      "Requirement already satisfied: contourpy>=1.0.1 in ./.venv/lib/python3.13/site-packages (from matplotlib<4.0,>=3.10.3->votekit) (1.3.2)\n",
      "Requirement already satisfied: cycler>=0.10 in ./.venv/lib/python3.13/site-packages (from matplotlib<4.0,>=3.10.3->votekit) (0.12.1)\n",
      "Requirement already satisfied: fonttools>=4.22.0 in ./.venv/lib/python3.13/site-packages (from matplotlib<4.0,>=3.10.3->votekit) (4.59.0)\n",
      "Requirement already satisfied: kiwisolver>=1.3.1 in ./.venv/lib/python3.13/site-packages (from matplotlib<4.0,>=3.10.3->votekit) (1.4.8)\n",
      "Requirement already satisfied: packaging>=20.0 in ./.venv/lib/python3.13/site-packages (from matplotlib<4.0,>=3.10.3->votekit) (25.0)\n",
      "Requirement already satisfied: pillow>=8 in ./.venv/lib/python3.13/site-packages (from matplotlib<4.0,>=3.10.3->votekit) (11.3.0)\n",
      "Requirement already satisfied: pyparsing>=2.3.1 in ./.venv/lib/python3.13/site-packages (from matplotlib<4.0,>=3.10.3->votekit) (3.2.3)\n",
      "Requirement already satisfied: python-dateutil>=2.7 in ./.venv/lib/python3.13/site-packages (from matplotlib<4.0,>=3.10.3->votekit) (2.9.0.post0)\n",
      "Requirement already satisfied: annotated-types>=0.6.0 in ./.venv/lib/python3.13/site-packages (from pydantic<3.0,>=2.11.5->votekit) (0.7.0)\n",
      "Requirement already satisfied: pydantic-core==2.33.2 in ./.venv/lib/python3.13/site-packages (from pydantic<3.0,>=2.11.5->votekit) (2.33.2)\n",
      "Requirement already satisfied: typing-inspection>=0.4.0 in ./.venv/lib/python3.13/site-packages (from pydantic<3.0,>=2.11.5->votekit) (0.4.1)\n",
      "Requirement already satisfied: joblib>=1.2.0 in ./.venv/lib/python3.13/site-packages (from scikit-learn<2.0,>=1.7.0->votekit) (1.5.1)\n",
      "Requirement already satisfied: threadpoolctl>=3.1.0 in ./.venv/lib/python3.13/site-packages (from scikit-learn<2.0,>=1.7.0->votekit) (3.6.0)\n",
      "Requirement already satisfied: pandas-stubs in ./.venv/lib/python3.13/site-packages (from types-seaborn<0.14.0.0,>=0.13.2.20250516->votekit) (2.3.0.250703)\n",
      "Requirement already satisfied: pytz>=2020.1 in ./.venv/lib/python3.13/site-packages (from pandas>2.2->votekit) (2025.2)\n",
      "Requirement already satisfied: tzdata>=2022.7 in ./.venv/lib/python3.13/site-packages (from pandas>2.2->votekit) (2025.2)\n",
      "Requirement already satisfied: six>=1.5 in ./.venv/lib/python3.13/site-packages (from python-dateutil>=2.7->matplotlib<4.0,>=3.10.3->votekit) (1.17.0)\n",
      "Requirement already satisfied: types-pytz>=2022.1.1 in ./.venv/lib/python3.13/site-packages (from pandas-stubs->types-seaborn<0.14.0.0,>=0.13.2.20250516->votekit) (2025.2.0.20250516)\n",
      "9\n"
     ]
    }
   ],
   "source": [
    "!pip install votekit\n",
    "print(3*3)"
   ]
  },
  {
   "cell_type": "code",
   "execution_count": 2,
   "id": "28c8c2d6",
   "metadata": {},
   "outputs": [
    {
     "name": "stdout",
     "output_type": "stream",
     "text": [
      "Ranking\n",
      "1.) A, \n",
      "2.) B, \n",
      "3.) C, \n",
      "Weight: 1.5\n",
      "Ranking\n",
      "1.) A, \n",
      "2.) B, \n",
      "3.) C, \n",
      "Weight: 32.0\n"
     ]
    }
   ],
   "source": [
    "from votekit.ballot import Ballot\n",
    "\n",
    "ballot = Ballot(ranking=[{\"A\"}, {\"B\"}, {\"C\"}], weight=3 / 2)\n",
    "print(ballot)\n",
    "\n",
    "ballot = Ballot(ranking=[{\"A\"}, {\"B\"}, {\"C\"}], weight=32)\n",
    "print(ballot)"
   ]
  },
  {
   "cell_type": "code",
   "execution_count": 3,
   "id": "22d95322",
   "metadata": {},
   "outputs": [
    {
     "name": "stdout",
     "output_type": "stream",
     "text": [
      "You cannot change a ballot once it is created.\n",
      "Found the following error:\n",
      "\tFrozenInstanceError: cannot assign to field 'ranking'\n"
     ]
    }
   ],
   "source": [
    "# the following code should raise an error\n",
    "try:\n",
    "    ballot = Ballot(ranking=[{\"A\"}, {\"B\"}, {\"C\"}], weight=3 / 2)\n",
    "    ballot.ranking = [{\"C\"}, {\"B\"}, {\"A\"}]\n",
    "\n",
    "except Exception as e:\n",
    "    print(\"You cannot change a ballot once it is created.\")\n",
    "    print(f\"Found the following error:\\n\\t{e.__class__.__name__}: {e}\")"
   ]
  },
  {
   "cell_type": "code",
   "execution_count": 4,
   "id": "8ba85e1f",
   "metadata": {},
   "outputs": [
    {
     "name": "stdout",
     "output_type": "stream",
     "text": [
      "A ballot with overvotes: Ranking\n",
      "1.) D, A, (tie)\n",
      "2.) B, \n",
      "3.) B, F, E, C, (tie)\n",
      "Weight: 1.0\n"
     ]
    }
   ],
   "source": [
    "ballot = Ballot(ranking=[{\"A\", \"D\"}, {\"B\", \"B\", \"B\"}, {\"C\", \"E\", \"F\", \"B\"}])\n",
    "print(\"A ballot with overvotes:\", ballot)"
   ]
  },
  {
   "cell_type": "code",
   "execution_count": 5,
   "id": "9f29f3b6",
   "metadata": {},
   "outputs": [
    {
     "name": "stdout",
     "output_type": "stream",
     "text": [
      "A bullet vote:\n",
      "Ranking\n",
      "1.) B, \n",
      "Weight: 1.0\n"
     ]
    }
   ],
   "source": [
    "ballot = Ballot(ranking=[{\"B\"}])\n",
    "print(\"A bullet vote:\")\n",
    "print(ballot)"
   ]
  },
  {
   "cell_type": "code",
   "execution_count": 6,
   "id": "ef9557a1",
   "metadata": {},
   "outputs": [
    {
     "name": "stdout",
     "output_type": "stream",
     "text": [
      "Profile contains rankings: True\n",
      "Maximum ranking length: 3\n",
      "Profile contains scores: False\n",
      "Candidates: ('A', 'B', 'C')\n",
      "Candidates who received votes: ('A', 'B', 'C')\n",
      "Total number of Ballot objects: 6\n",
      "Total weight of Ballot objects: 8.0\n",
      "\n",
      "\n",
      "             Ranking_1 Ranking_2 Ranking_3 Voter Set  Weight\n",
      "Ballot Index                                                \n",
      "0                  (A)       (B)       (C)        {}     3.0\n",
      "1                  (B)       (A)       (C)        {}     1.0\n",
      "2                  (C)       (B)       (A)        {}     1.0\n",
      "3                  (A)       (B)       (C)        {}     1.0\n",
      "4                  (A)       (B)       (C)        {}     1.0\n",
      "5                  (B)       (A)       (C)        {}     1.0\n"
     ]
    }
   ],
   "source": [
    "from votekit.pref_profile import PreferenceProfile\n",
    "\n",
    "candidates = [\"A\", \"B\", \"C\"]\n",
    "\n",
    "# let's assume that the ballots come from voters,\n",
    "# so they all have integer weight for now\n",
    "ballots = [\n",
    "    Ballot(ranking=[{\"A\"}, {\"B\"}, {\"C\"}], weight=3),\n",
    "    Ballot(ranking=[{\"B\"}, {\"A\"}, {\"C\"}]),\n",
    "    Ballot(ranking=[{\"C\"}, {\"B\"}, {\"A\"}]),\n",
    "    Ballot(ranking=[{\"A\"}, {\"B\"}, {\"C\"}]),\n",
    "    Ballot(ranking=[{\"A\"}, {\"B\"}, {\"C\"}]),\n",
    "    Ballot(ranking=[{\"B\"}, {\"A\"}, {\"C\"}]),\n",
    "]\n",
    "\n",
    "# we give the profile a list of ballots and a list of candidates\n",
    "profile = PreferenceProfile(ballots=ballots, candidates=candidates)\n",
    "\n",
    "print(profile)\n",
    "print()\n",
    "print(profile.df.to_string())"
   ]
  }
 ],
 "metadata": {
  "kernelspec": {
   "display_name": ".venv",
   "language": "python",
   "name": "python3"
  },
  "language_info": {
   "codemirror_mode": {
    "name": "ipython",
    "version": 3
   },
   "file_extension": ".py",
   "mimetype": "text/x-python",
   "name": "python",
   "nbconvert_exporter": "python",
   "pygments_lexer": "ipython3",
   "version": "3.13.0"
  }
 },
 "nbformat": 4,
 "nbformat_minor": 5
}
