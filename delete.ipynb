{
 "cells": [
  {
   "cell_type": "code",
   "execution_count": null,
   "id": "b6e672bf",
   "metadata": {},
   "outputs": [],
   "source": [
    "print(3*3)"
   ]
  }
 ],
 "metadata": {
  "language_info": {
   "name": "python"
  }
 },
 "nbformat": 4,
 "nbformat_minor": 5
}
